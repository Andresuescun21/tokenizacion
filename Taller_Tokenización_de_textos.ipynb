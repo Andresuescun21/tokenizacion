{
  "cells": [
    {
      "cell_type": "markdown",
      "metadata": {
        "id": "ruZqjAa7Xk9X"
      },
      "source": [
        "![image info](https://raw.githubusercontent.com/albahnsen/MIAD_ML_and_NLP/main/images/banner_1.png)"
      ]
    },
    {
      "cell_type": "markdown",
      "metadata": {
        "id": "KivviMqiXk9Y"
      },
      "source": [
        "# Taller: Tokenización de textos  \n",
        "\n",
        "En este taller podrán poner en práctica sus conocimientos sobre preprocesamiento de texto (tokenización). El taller está constituido por 5 puntos, en los cuales deberan seguir las intrucciones de cada numeral para su desarrollo."
      ]
    },
    {
      "cell_type": "markdown",
      "metadata": {
        "id": "xEgLLQiIXk9Z"
      },
      "source": [
        "## Datos detección de toxicidad en comentarios\n",
        "\n",
        "En este taller se usará el conjunto de datos de detección de toxicidad en comentarios de la base de datos de Kaggle. Cada observación es un comentario que tiene como variable objetivo (target) la probabilidad de ser un comentario tóxico. El objetivo es predecir la toxicidad de cada comentario. Para más detalles pueden visitar el siguiente enlace: [datos](https://www.kaggle.com/c/jigsaw-unintended-bias-in-toxicity-classification/data)."
      ]
    },
    {
      "cell_type": "code",
      "execution_count": null,
      "metadata": {
        "id": "KieKS7moXk9Z"
      },
      "outputs": [],
      "source": [
        "# SUGERIDO: Descomenta la siguiente linea de código si requieres instalar las libreías básicas utilizadas en este notebook\n",
        "# Si requieres incluir más librerías puedes agregarlas al archivo Semana 4\\requirements.txt\n",
        "# !pip install -r requirements.txt"
      ]
    },
    {
      "cell_type": "code",
      "execution_count": null,
      "metadata": {
        "id": "Dx-z5u6TXk9Z"
      },
      "outputs": [],
      "source": [
        "import warnings\n",
        "warnings.filterwarnings('ignore')"
      ]
    },
    {
      "cell_type": "code",
      "execution_count": null,
      "metadata": {
        "id": "DS2PHgQHXk9a"
      },
      "outputs": [],
      "source": [
        "# Importación librerías\n",
        "import pandas as pd\n",
        "import numpy as np\n",
        "import scipy as sp\n",
        "from sklearn.model_selection import train_test_split, cross_val_score\n",
        "from sklearn.feature_extraction.text import CountVectorizer, TfidfVectorizer\n",
        "from sklearn import metrics\n",
        "%matplotlib inline"
      ]
    },
    {
      "cell_type": "code",
      "execution_count": null,
      "metadata": {
        "id": "__PwXxeMXk9a",
        "outputId": "6aae6d03-8d4c-4d9f-e8ed-85ae0f42600b"
      },
      "outputs": [
        {
          "data": {
            "text/html": [
              "<div>\n",
              "<style scoped>\n",
              "    .dataframe tbody tr th:only-of-type {\n",
              "        vertical-align: middle;\n",
              "    }\n",
              "\n",
              "    .dataframe tbody tr th {\n",
              "        vertical-align: top;\n",
              "    }\n",
              "\n",
              "    .dataframe thead th {\n",
              "        text-align: right;\n",
              "    }\n",
              "</style>\n",
              "<table border=\"1\" class=\"dataframe\">\n",
              "  <thead>\n",
              "    <tr style=\"text-align: right;\">\n",
              "      <th></th>\n",
              "      <th>id</th>\n",
              "      <th>comment_text</th>\n",
              "      <th>target</th>\n",
              "    </tr>\n",
              "  </thead>\n",
              "  <tbody>\n",
              "    <tr>\n",
              "      <th>0</th>\n",
              "      <td>6101457</td>\n",
              "      <td>What are you talking about? What group do Pete...</td>\n",
              "      <td>0.0</td>\n",
              "    </tr>\n",
              "    <tr>\n",
              "      <th>1</th>\n",
              "      <td>5342103</td>\n",
              "      <td>NO!, Let him, we need a Conservative government.</td>\n",
              "      <td>0.0</td>\n",
              "    </tr>\n",
              "    <tr>\n",
              "      <th>2</th>\n",
              "      <td>743361</td>\n",
              "      <td>Perhaps he took the \"power out of the Cardinal...</td>\n",
              "      <td>0.2</td>\n",
              "    </tr>\n",
              "    <tr>\n",
              "      <th>3</th>\n",
              "      <td>551008</td>\n",
              "      <td>As always, yours is dripping with sarcasm, whi...</td>\n",
              "      <td>0.0</td>\n",
              "    </tr>\n",
              "    <tr>\n",
              "      <th>4</th>\n",
              "      <td>865998</td>\n",
              "      <td>The dirty little secret is that the price rang...</td>\n",
              "      <td>0.3</td>\n",
              "    </tr>\n",
              "  </tbody>\n",
              "</table>\n",
              "</div>"
            ],
            "text/plain": [
              "        id                                       comment_text  target\n",
              "0  6101457  What are you talking about? What group do Pete...     0.0\n",
              "1  5342103   NO!, Let him, we need a Conservative government.     0.0\n",
              "2   743361  Perhaps he took the \"power out of the Cardinal...     0.2\n",
              "3   551008  As always, yours is dripping with sarcasm, whi...     0.0\n",
              "4   865998  The dirty little secret is that the price rang...     0.3"
            ]
          },
          "execution_count": 3,
          "metadata": {},
          "output_type": "execute_result"
        }
      ],
      "source": [
        "# Carga de datos de archivos .csv\n",
        "df = pd.read_csv('https://raw.githubusercontent.com/davidzarruk/MIAD_ML_NLP_2025/main/datasets/Toxicity.zip')\n",
        "df = df[['id','comment_text', 'target']]\n",
        "df.head()"
      ]
    },
    {
      "cell_type": "code",
      "execution_count": null,
      "metadata": {
        "id": "FRMRQ1bHXk9a",
        "outputId": "fc45c154-f277-4e9b-f46a-72fbc7edb99b"
      },
      "outputs": [
        {
          "data": {
            "text/plain": [
              "(541462, 3)"
            ]
          },
          "execution_count": 4,
          "metadata": {},
          "output_type": "execute_result"
        }
      ],
      "source": [
        "df.shape"
      ]
    },
    {
      "cell_type": "code",
      "execution_count": null,
      "metadata": {
        "id": "G6ZXGbapXk9a",
        "outputId": "3f4124c4-eb9a-4702-fc4d-974427d59bb8"
      },
      "outputs": [
        {
          "data": {
            "text/plain": [
              "<Axes: >"
            ]
          },
          "execution_count": 5,
          "metadata": {},
          "output_type": "execute_result"
        },
        {
          "data": {
            "image/png": "[encoded data removed]",
            "text/plain": [
              "<Figure size 640x480 with 1 Axes>"
            ]
          },
          "metadata": {},
          "output_type": "display_data"
        }
      ],
      "source": [
        "# Impresión histograma de variable de interés (y)\n",
        "df.target.hist()"
      ]
    },
    {
      "cell_type": "code",
      "execution_count": null,
      "metadata": {
        "id": "IkBUFnR8Xk9a",
        "outputId": "0296002c-4287-4c4d-fa4b-43ded1c25502"
      },
      "outputs": [
        {
          "data": {
            "text/plain": [
              "count    541462.000000\n",
              "mean          0.102991\n",
              "std           0.196979\n",
              "min           0.000000\n",
              "25%           0.000000\n",
              "50%           0.000000\n",
              "75%           0.166667\n",
              "max           1.000000\n",
              "Name: target, dtype: float64"
            ]
          },
          "execution_count": 6,
          "metadata": {},
          "output_type": "execute_result"
        }
      ],
      "source": [
        "# Separación de variable de interés (y)\n",
        "y = df.target\n",
        "y.describe()"
      ]
    },
    {
      "cell_type": "code",
      "execution_count": null,
      "metadata": {
        "id": "PtXHFkNgXk9b"
      },
      "outputs": [],
      "source": [
        "# Separación de variables predictoras (X), solo se considera el texto de la noticia\n",
        "X = df.comment_text"
      ]
    },
    {
      "cell_type": "code",
      "execution_count": null,
      "metadata": {
        "id": "LbpSgfYyXk9b"
      },
      "outputs": [],
      "source": [
        "# Separación de datos en set de entrenamiento y test\n",
        "X_train, X_test, y_train, y_test = train_test_split(X, y, test_size=0.33, random_state=42)"
      ]
    },
    {
      "cell_type": "markdown",
      "metadata": {
        "id": "nwU8nPp3Xk9b"
      },
      "source": [
        "## Punto 1 - Tokenización con CountVectorizer\n",
        "\n",
        "En la celda 1 creen y entrenen el modelo de regresión de su preferencia, para que prediga la probabilidad de que un comentario sea tóxico, usando los set de entrenamiento y test definidos anteriormente. Usen la función **CountVectorizer** para preprocesar los comentarios y presenten el desempeño del modelo con la métrica del MSE.\n",
        "\n",
        "Recuerden que el preprocesamiento que se haga sobre los datos de entrenamiento  (*.fit_transform()*) deben ser aplicado al set de test (*.transform()*)."
      ]
    },
    {
      "cell_type": "code",
      "execution_count": null,
      "metadata": {
        "id": "T7wJKWdBXk9b",
        "outputId": "6284d191-4b17-48f7-c97d-519aaafdd472"
      },
      "outputs": [
        {
          "name": "stdout",
          "output_type": "stream",
          "text": [
            "MSE del modelo Ridge con CountVectorizer: 0.0261\n"
          ]
        }
      ],
      "source": [
        "# Celda 1\n",
        "from sklearn.feature_extraction.text import CountVectorizer\n",
        "from sklearn.linear_model import Ridge\n",
        "from sklearn.metrics import mean_squared_error\n",
        "from sklearn.pipeline import make_pipeline\n",
        "\n",
        "# 1. Crear el vectorizador\n",
        "vectorizer = CountVectorizer()\n",
        "\n",
        "# 2. Transformar los textos\n",
        "X_train_vec = vectorizer.fit_transform(X_train)\n",
        "X_test_vec = vectorizer.transform(X_test)\n",
        "\n",
        "# 3. Crear y entrenar un modelo de regresión\n",
        "model = Ridge()\n",
        "model.fit(X_train_vec, y_train)\n",
        "\n",
        "# 4. Predecir sobre el set de test\n",
        "y_pred = model.predict(X_test_vec)\n",
        "\n",
        "# 5. Calcular y mostrar el MSE\n",
        "mse = mean_squared_error(y_test, y_pred)\n",
        "print(f\"MSE del modelo Ridge con CountVectorizer: {mse:.4f}\")\n"
      ]
    },
    {
      "cell_type": "markdown",
      "metadata": {
        "id": "arjimi8kXk9b"
      },
      "source": [
        "## Punto 2 - Tokenización con CountVectorizer y trigramas\n",
        "\n",
        "En la celda 2 creen y entrenen el mismo modelo de regresión del punto anterior (es decir si usaron un RandomForestRegresor usen nuevamente ese regresor), para que prediga la probabilidad de que un comentario sea tóxico, usando los set de entrenamiento y test definidos anteriormente. Usen la función CountVectorizer **considerando trigramas** para preprocesar los comentarios y presenten el desempeño del modelo con la métrica del MSE.\n",
        "\n",
        "Recuerden que el preprocesamiento que se haga sobre los datos de entrenamiento  (*.fit_transform()*) deben ser aplicado al set de test (*.transform()*)."
      ]
    },
    {
      "cell_type": "code",
      "execution_count": null,
      "metadata": {
        "id": "B3awhQnfXk9b",
        "outputId": "c8fe938a-b0b1-48e6-f68a-33f609c7a512"
      },
      "outputs": [
        {
          "name": "stdout",
          "output_type": "stream",
          "text": [
            "MSE del modelo Ridge con CountVectorizer (trigramas): 0.0368\n"
          ]
        }
      ],
      "source": [
        "# Celda 2\n",
        "from sklearn.feature_extraction.text import CountVectorizer\n",
        "from sklearn.linear_model import Ridge\n",
        "from sklearn.metrics import mean_squared_error\n",
        "\n",
        "# 1. Crear el vectorizador para trigramas\n",
        "vectorizer_trigrams = CountVectorizer(ngram_range=(3, 3))  # solo trigramas\n",
        "\n",
        "# 2. Transformar los textos\n",
        "X_train_trigrams = vectorizer_trigrams.fit_transform(X_train)\n",
        "X_test_trigrams = vectorizer_trigrams.transform(X_test)\n",
        "\n",
        "# 3. Crear y entrenar el modelo de regresión\n",
        "model_trigrams = Ridge()\n",
        "model_trigrams.fit(X_train_trigrams, y_train)\n",
        "\n",
        "# 4. Predecir sobre el set de test\n",
        "y_pred_trigrams = model_trigrams.predict(X_test_trigrams)\n",
        "\n",
        "# 5. Calcular y mostrar el MSE\n",
        "mse_trigrams = mean_squared_error(y_test, y_pred_trigrams)\n",
        "print(f\"MSE del modelo Ridge con CountVectorizer (trigramas): {mse_trigrams:.4f}\")\n"
      ]
    },
    {
      "cell_type": "markdown",
      "metadata": {
        "id": "N1gP5s-RXk9b"
      },
      "source": [
        "## Punto 3 - TfidfVectorizer\n",
        "\n",
        "Investigen sobre la función TfidfVectorizer. En la celda de texto 3, expliquen en qué consiste esta técnica de tokenización (describanla y expliquen su funcionamiento) y cúales son las ventajas o deventajas de su uso al compararlo con la función CountVectorizer."
      ]
    },
    {
      "cell_type": "markdown",
      "metadata": {
        "id": "m5dml2HhXk9c"
      },
      "source": [
        "**¿Qué es?**  \n",
        "\n",
        "`TfidfVectorizer` es una técnica de tokenización que convierte un conjunto de documentos en una matriz de características numéricas, utilizando la métrica TF-IDF (*Term Frequency - Inverse Document Frequency*). Esta métrica mide la **importancia relativa de una palabra** en un documento, teniendo en cuenta su frecuencia en el documento y su rareza en el cuerpo completo.\n",
        "\n",
        "**¿Cómo funciona?**  \n",
        "\n",
        "TF-IDF calcula un peso para cada término en cada documento basado en:\n",
        "- **TF (Term Frequency):** Frecuencia con la que aparece una palabra en un documento.\n",
        "- **IDF (Inverse Document Frequency):** Logaritmo inverso de la cantidad de documentos en los que aparece la palabra.\n",
        "\n",
        "$$\n",
        "\\text{TF-IDF}(t,d) = \\text{TF}(t,d) \\times \\log\\left(\\frac{N}{\\text{DF}(t)}\\right)\n",
        "$$\n",
        "\n",
        "donde:\n",
        "\n",
        "donde:\n",
        "\n",
        "- \\( t \\): término o palabra\n",
        "- \\( d \\): documento\n",
        "- \\( N \\): número total de documentos en el corpus\n",
        "- \\( DF(t) \\): número de documentos que contienen el término \\( t \\)\n",
        "\n",
        "\n",
        "**Ventajas frente a CountVectorizer:**\n",
        "\n",
        "- Da menos peso a palabras comunes como \"el\", \"la\", \"de\", que suelen aparecer en muchos documentos pero aportan poco significado.\n",
        "- Mejora la representación semántica al resaltar palabras que son más importantes para un documento en particular.\n",
        "- Puede mejorar el rendimiento en modelos de clasificación y regresión al reducir el \"ruido\" de palabras frecuentes.\n",
        "\n",
        "**Desventajas frente a CountVectorizer:**\n",
        "\n",
        "- Es más complejo y requiere más tiempo de cómputo.\n",
        "- Puede ser sensible a documentos muy cortos (donde la IDF se distorsiona).\n",
        "- No siempre mejora el rendimiento en todos los modelos; depende del contexto y del tipo de texto.\n",
        "\n",
        "\n",
        "\n",
        "**En resumen**, `TfidfVectorizer` es útil cuando queremos que nuestro modelo preste más atención a palabras distintivas y menos a palabras comunes en todo el cuerpo del documento.\n"
      ]
    },
    {
      "cell_type": "markdown",
      "metadata": {
        "id": "tQr6m2FvXk9c"
      },
      "source": [
        "## Punto 4 - Tokenización con TfidfVectorizer\n",
        "\n",
        "En la celda 4 creen y entrenen el mismo modelo de regresión del primer punto, para que prediga la probabilidad de que un comentario sea tóxico, usando los set de entrenamiento y test definidos anteriormente. Procesen los comentarios con la función **TfidfVectorizer** y presenten el desempeño del modelo con la métrica del MSE.\n",
        "\n",
        "Recuerden que el preprocesamiento que se haga sobre los datos de entrenamiento  (*.fit_transform()*) deben ser aplicado al set de test (*.transform()*)."
      ]
    },
    {
      "cell_type": "code",
      "execution_count": null,
      "metadata": {
        "id": "FOw10ox0Xk9c",
        "outputId": "3e27c6b7-855a-46a8-9622-0f05834c7a2f"
      },
      "outputs": [
        {
          "name": "stdout",
          "output_type": "stream",
          "text": [
            "MSE del modelo Ridge con TfidfVectorizer: 0.0181\n"
          ]
        }
      ],
      "source": [
        "# Celda 4\n",
        "from sklearn.feature_extraction.text import TfidfVectorizer\n",
        "from sklearn.linear_model import Ridge\n",
        "from sklearn.metrics import mean_squared_error\n",
        "\n",
        "# 1. Crear el vectorizador TF-IDF\n",
        "vectorizer_tfidf = TfidfVectorizer()\n",
        "\n",
        "# 2. Transformar los textos\n",
        "X_train_tfidf = vectorizer_tfidf.fit_transform(X_train)\n",
        "X_test_tfidf = vectorizer_tfidf.transform(X_test)\n",
        "\n",
        "# 3. Crear y entrenar el modelo de regresión\n",
        "model_tfidf = Ridge()\n",
        "model_tfidf.fit(X_train_tfidf, y_train)\n",
        "\n",
        "# 4. Predecir sobre el set de test\n",
        "y_pred_tfidf = model_tfidf.predict(X_test_tfidf)\n",
        "\n",
        "# 5. Calcular y mostrar el MSE\n",
        "mse_tfidf = mean_squared_error(y_test, y_pred_tfidf)\n",
        "print(f\"MSE del modelo Ridge con TfidfVectorizer: {mse_tfidf:.4f}\")"
      ]
    },
    {
      "cell_type": "markdown",
      "metadata": {
        "id": "wepHPx8kXk9c"
      },
      "source": [
        "## Punto 5 - Comparación y análisis de resultados\n",
        "\n",
        "En la celda 5 comparen los resultados obtenidos de los diferentes modelos y comenten cómo el preprocesamiento de texto afecta el desempeño."
      ]
    },
    {
      "cell_type": "code",
      "execution_count": null,
      "metadata": {
        "id": "K-PpSCn0Xk9c",
        "outputId": "2c8612ca-5be2-40e1-c6d0-455134814005"
      },
      "outputs": [
        {
          "name": "stdout",
          "output_type": "stream",
          "text": [
            "                        Modelo       MSE\n",
            "0  CountVectorizer (unigramas)  0.026128\n",
            "1  CountVectorizer (trigramas)  0.036780\n",
            "2              TfidfVectorizer  0.018051\n"
          ]
        },
        {
          "data": {
            "image/png": "[encoded data removed]",
            "text/plain": [
              "<Figure size 1000x600 with 1 Axes>"
            ]
          },
          "metadata": {},
          "output_type": "display_data"
        }
      ],
      "source": [
        "# Celda 5 Código para graficos y tablas comparativas\n",
        "import pandas as pd\n",
        "import matplotlib.pyplot as plt\n",
        "\n",
        "# Crear un resumen de los resultados\n",
        "resultados = {\n",
        "    'Modelo': [\n",
        "        'CountVectorizer (unigramas)',\n",
        "        'CountVectorizer (trigramas)',\n",
        "        'TfidfVectorizer'\n",
        "    ],\n",
        "    'MSE': [\n",
        "        mse,         # Resultado del Punto 1\n",
        "        mse_trigrams, # Resultado del Punto 2\n",
        "        mse_tfidf     # Resultado del Punto 4\n",
        "    ]\n",
        "}\n",
        "\n",
        "# Convertir a DataFrame para visualizar\n",
        "df_resultados = pd.DataFrame(resultados)\n",
        "\n",
        "# Mostrar tabla\n",
        "print(df_resultados)\n",
        "\n",
        "# Gráfico\n",
        "plt.figure(figsize=(10,6))\n",
        "bars = plt.bar(df_resultados['Modelo'], df_resultados['MSE'], color='skyblue')\n",
        "plt.xticks(rotation=20, ha='right')\n",
        "plt.ylabel('MSE')\n",
        "plt.title('Comparación de MSE entre modelos de tokenización')\n",
        "plt.grid(axis='y', linestyle='--', alpha=0.7)\n",
        "\n",
        "# Añadir los valores encima de cada barra\n",
        "for bar in bars:\n",
        "    height = bar.get_height()\n",
        "    plt.annotate(f'{height:.4f}',\n",
        "                 xy=(bar.get_x() + bar.get_width() / 2, height),\n",
        "                 xytext=(0, 5),  # pequeño desplazamiento arriba\n",
        "                 textcoords=\"offset points\",\n",
        "                 ha='center', va='bottom')\n",
        "\n",
        "plt.tight_layout()\n",
        "plt.show()"
      ]
    },
    {
      "cell_type": "markdown",
      "metadata": {
        "id": "ag2vHs11Xk9c"
      },
      "source": [
        "### Punto 5.1 – Comparación y análisis de resultados\n",
        "\n",
        "A continuación, se comparan los resultados de los tres modelos entrenados con diferentes técnicas de tokenización:\n",
        "\n",
        "| Modelo                         | MSE      |\n",
        "|-------------------------------|----------|\n",
        "| CountVectorizer (unigramas)   | 0.0261   |\n",
        "| CountVectorizer (trigramas)   | 0.0368   |\n",
        "| TfidfVectorizer               | 0.0181   |\n",
        "\n",
        "#### Análisis:\n",
        "\n",
        "- El modelo entrenado con **TfidfVectorizer** obtuvo el menor **Error Cuadrático Medio (MSE)**, con un valor de **0.0181**, lo que indica mejor capacidad de predicción en la probabilidad de comentarios tóxicos.\n",
        "- **CountVectorizer con unigramas** también muestra un desempeño aceptable (**MSE = 0.0261**), pero claramente inferior al de TfidfVectorizer.\n",
        "- **CountVectorizer con trigramas** resultó ser el menos efectivo (**MSE = 0.0368**), lo cual puede deberse a la alta dimensionalidad y esparsidad que generan los trigramas, especialmente cuando no se tiene un corpus extremadamente grande o limpio.\n",
        "\n",
        "#### Conclusión:\n",
        "\n",
        "El preprocesamiento de texto impacta significativamente el desempeño del modelo. Usar **TF-IDF** mejora la calidad del input al ponderar mejor los términos relevantes, reduciendo el peso de palabras muy frecuentes y poco informativas. Esto sugiere que la calidad del vectorizador puede ser tan importante como la elección del modelo en tareas de PLN.\n"
      ]
    }
  ],
  "metadata": {
    "kernelspec": {
      "display_name": "ml_nlp_env",
      "language": "python",
      "name": "python3"
    },
    "language_info": {
      "codemirror_mode": {
        "name": "ipython",
        "version": 3
      },
      "file_extension": ".py",
      "mimetype": "text/x-python",
      "name": "python",
      "nbconvert_exporter": "python",
      "pygments_lexer": "ipython3",
      "version": "3.9.21"
    },
    "name": "_merged",
    "colab": {
      "provenance": []
    }
  },
  "nbformat": 4,
  "nbformat_minor": 0
}